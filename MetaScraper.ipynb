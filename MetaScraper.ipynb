{
  "nbformat": 4,
  "nbformat_minor": 0,
  "metadata": {
    "colab": {
      "name": "MetaScraper.ipynb",
      "provenance": [],
      "collapsed_sections": [],
      "authorship_tag": "ABX9TyMpwgq5liiks0G7CT3Jl02o",
      "include_colab_link": true
    },
    "kernelspec": {
      "name": "python3",
      "display_name": "Python 3"
    },
    "language_info": {
      "name": "python"
    }
  },
  "cells": [
    {
      "cell_type": "markdown",
      "metadata": {
        "id": "view-in-github",
        "colab_type": "text"
      },
      "source": [
        "<a href=\"https://colab.research.google.com/github/umutcanberkhasret/Boxish-Hero---Introduction-to-Game-Development/blob/master/MetaScraper.ipynb\" target=\"_parent\"><img src=\"https://colab.research.google.com/assets/colab-badge.svg\" alt=\"Open In Colab\"/></a>"
      ]
    },
    {
      "cell_type": "code",
      "execution_count": null,
      "metadata": {
        "id": "UBfsq2sYs2vh"
      },
      "outputs": [],
      "source": [
        "import pandas as pd\n",
        "import urllib.request\n",
        "from urllib.parse import urlparse\n",
        "from bs4 import BeautifulSoup\n",
        "import pdb\n",
        "import sys"
      ]
    },
    {
      "cell_type": "code",
      "source": [
        "# Scrape the XML sitemap\n",
        "\n",
        "def get_sitemap(url):\n",
        "    \"\"\"Scrapes an XML sitemap from the provided URL and returns XML source.\n",
        "\n",
        "    Args:\n",
        "        url (string): Fully qualified URL pointing to XML sitemap.\n",
        "\n",
        "    Returns:\n",
        "        xml (string): XML source of scraped sitemap.\n",
        "    \"\"\"\n",
        "    try:\n",
        "      response = urllib.request.urlopen(url)\n",
        "      xml = BeautifulSoup(response, \n",
        "                         'lxml-xml', \n",
        "                         from_encoding=response.info().get_param('charset'))\n",
        "\n",
        "      return xml\n",
        "    except: \n",
        "      return\n",
        "    "
      ],
      "metadata": {
        "id": "tpOaQJN2s_fA"
      },
      "execution_count": null,
      "outputs": []
    },
    {
      "cell_type": "code",
      "source": [
        "# Parse the sitemap to determine its type\n",
        "\n",
        "def get_sitemap_type(xml):\n",
        "    \"\"\"Parse XML source and returns the type of sitemap.\n",
        "\n",
        "    Args:\n",
        "        xml (string): Source code of XML sitemap.\n",
        "\n",
        "    Returns:\n",
        "        sitemap_type (string): Type of sitemap (sitemap, sitemapindex, or None).\n",
        "    \"\"\"\n",
        "\n",
        "    sitemapindex = xml.find_all('sitemapindex')\n",
        "    sitemap = xml.find_all('urlset')\n",
        "\n",
        "    if sitemapindex:\n",
        "        return 'sitemapindex'\n",
        "    elif sitemap:\n",
        "        return 'urlset'\n",
        "    else:\n",
        "        return\n"
      ],
      "metadata": {
        "id": "gNWtSz-quYIo"
      },
      "execution_count": null,
      "outputs": []
    },
    {
      "cell_type": "code",
      "source": [
        "# Parse the sitemap and extract child sitemaps\n",
        "\n",
        "def get_child_sitemaps(xml):\n",
        "    \"\"\"Return a list of child sitemaps present in a XML sitemap file.\n",
        "\n",
        "    Args:\n",
        "        xml (string): XML source of sitemap. \n",
        "\n",
        "    Returns:\n",
        "        sitemaps (list): Python list of XML sitemap URLs.\n",
        "    \"\"\"\n",
        "\n",
        "    sitemaps = xml.find_all(\"sitemap\")\n",
        "\n",
        "    output = []\n",
        "\n",
        "    for sitemap in sitemaps:\n",
        "        output.append(sitemap.findNext(\"loc\").text)\n",
        "    return output"
      ],
      "metadata": {
        "id": "wJ7PuhQVujtO"
      },
      "execution_count": null,
      "outputs": []
    },
    {
      "cell_type": "code",
      "source": [
        "# Read the sitemap XML into a Pandas dataframe\n",
        "\n",
        "def sitemap_to_dataframe(xml, name=None, data=None, verbose=False):\n",
        "    \"\"\"Read an XML sitemap into a Pandas dataframe. \n",
        "\n",
        "    Args:\n",
        "        xml (string): XML source of sitemap. \n",
        "        name (optional): Optional name for sitemap parsed.\n",
        "        verbose (boolean, optional): Set to True to monitor progress.\n",
        "\n",
        "    Returns:\n",
        "        dataframe: Pandas dataframe of XML sitemap content. \n",
        "    \"\"\"\n",
        "\n",
        "    df = pd.DataFrame(columns=['loc', 'lastmod', 'domain','sitemap_name','changefreq', 'priority'])\n",
        "\n",
        "    urls = xml.find_all(\"url\")\n",
        "  \n",
        "    for url in urls:\n",
        "\n",
        "        if xml.find(\"loc\"):\n",
        "            loc = url.findNext(\"loc\").text\n",
        "            parsed_uri = urlparse(loc)\n",
        "            domain = '{uri.netloc}'.format(uri=parsed_uri)\n",
        "        else:\n",
        "            loc = ''\n",
        "            domain = ''\n",
        "            \n",
        "        if xml.find(\"lastmod\"):\n",
        "            lastmod = url.findNext(\"lastmod\").text\n",
        "        else:\n",
        "            lastmod = ''\n",
        "\n",
        "        if xml.find(\"changefreq\"):\n",
        "            changefreq = url.findNext(\"changefreq\").text\n",
        "        else:\n",
        "            changefreq = ''\n",
        "            \n",
        "    \n",
        "        if xml.find(\"priority\"):\n",
        "            priority = url.findNext(\"priority\").text\n",
        "        else:\n",
        "            priority = ''\n",
        "\n",
        "        if name:\n",
        "            sitemap_name = name\n",
        "        else:\n",
        "            sitemap_name = ''\n",
        "              \n",
        "        row = {\n",
        "            'domain': domain,\n",
        "            'loc': loc,\n",
        "            'lastmod': lastmod,\n",
        "            'changefreq': changefreq,\n",
        "            'priority': priority,\n",
        "            'sitemap_name': sitemap_name,\n",
        "        }\n",
        "\n",
        "        if verbose:\n",
        "            print(row)\n",
        "\n",
        "        df = df.append(row, ignore_index=True)\n",
        "    return df"
      ],
      "metadata": {
        "id": "xDj3n0S5u8Iy"
      },
      "execution_count": null,
      "outputs": []
    },
    {
      "cell_type": "code",
      "source": [
        "def get_all_urls(url):\n",
        "    \"\"\"Return a dataframe containing all of the URLs from a site's XML sitemaps.\n",
        "\n",
        "    Args:\n",
        "        url (string): URL of site's XML sitemap. Usually located at /sitemap.xml\n",
        "\n",
        "    Returns:\n",
        "        df (dataframe): Pandas dataframe containing all sitemap content. \n",
        "\n",
        "    \"\"\"\n",
        "\n",
        "    \n",
        "    sitemaps = []\n",
        "    xml = get_sitemap(url)\n",
        "    # sys.breakpointhook()\n",
        "    if xml is not None:\n",
        "      sitemap_type = get_sitemap_type(xml)\n",
        "\n",
        "      if sitemap_type =='sitemapindex':\n",
        "          sitemaps = get_child_sitemaps(xml)\n",
        "      else:\n",
        "          sitemaps = [url]\n",
        "\n",
        "    df = pd.DataFrame(columns=['loc', 'lastmod', 'domain','sitemap_name'])\n",
        "\n",
        "    for sitemap in sitemaps:\n",
        "      sitemap_xml = get_sitemap(sitemap)\n",
        "      df_sitemap = sitemap_to_dataframe(sitemap_xml, name=sitemap)\n",
        "\n",
        "      df = pd.concat([df, df_sitemap], ignore_index=True)\n",
        "\n",
        "    return df"
      ],
      "metadata": {
        "id": "RxG7SuswydwY"
      },
      "execution_count": null,
      "outputs": []
    },
    {
      "cell_type": "code",
      "source": [
        "def get_page(url):\n",
        "    \"\"\"Scrapes a URL and returns the HTML source.\n",
        "\n",
        "    Args:\n",
        "        url (string): Fully qualified URL of a page.\n",
        "\n",
        "    Returns:\n",
        "        soup (string): HTML source of scraped page.\n",
        "    \"\"\"\n",
        "\n",
        "    response = urllib.request.urlopen(url)\n",
        "    soup = BeautifulSoup(response, \n",
        "                         'html.parser', \n",
        "                         from_encoding=response.info().get_param('charset'))\n",
        "\n",
        "    return soup"
      ],
      "metadata": {
        "id": "2yZqtfLB4SFL"
      },
      "execution_count": null,
      "outputs": []
    },
    {
      "cell_type": "code",
      "source": [
        "def get_title(soup):\n",
        "    \"\"\"Return the page title\n",
        "\n",
        "    Args:\n",
        "        soup: HTML code from Beautiful Soup\n",
        "        \n",
        "    Returns: \n",
        "        value (string): Parsed value\n",
        "    \"\"\"\n",
        "\n",
        "    if soup.findAll(\"title\"):\n",
        "        return soup.find(\"title\").string\n",
        "    else:\n",
        "        return"
      ],
      "metadata": {
        "id": "jQDlFVKNOrYW"
      },
      "execution_count": null,
      "outputs": []
    },
    {
      "cell_type": "code",
      "source": [
        "def get_description(soup):\n",
        "    \"\"\"Return the meta description content\n",
        "\n",
        "    Args:\n",
        "        soup: HTML code from Beautiful Soup\n",
        "        \n",
        "    Returns: \n",
        "        value (string): Parsed value\n",
        "    \"\"\"\n",
        "\n",
        "    if soup.findAll(\"meta\", attrs={\"name\": \"description\"}):\n",
        "        return soup.find(\"meta\", attrs={\"name\": \"description\"}).get(\"content\")\n",
        "    else:\n",
        "        return\n",
        "\n",
        "    return"
      ],
      "metadata": {
        "id": "5kUi-E2rOkwP"
      },
      "execution_count": null,
      "outputs": []
    },
    {
      "cell_type": "code",
      "source": [
        "# Debug Reference: https://stackoverflow.com/questions/52656692/debugging-in-google-colab\n",
        "\n",
        "targetUrls = []\n",
        "resultSiteMaps = pd.DataFrame(columns=['loc', 'lastmod', 'domain','sitemap_name'])\n",
        "\n",
        "for url in targetUrls:\n",
        "  df = get_all_urls(url)\n",
        "  resultSiteMaps = pd.concat([resultSiteMaps, df], ignore_index=True)\n",
        "resultSiteMaps.count()"
      ],
      "metadata": {
        "colab": {
          "base_uri": "https://localhost:8080/"
        },
        "id": "llCkPYGzyhqk",
        "outputId": "1f821328-e88f-46e5-8c43-48602fa97afb"
      },
      "execution_count": null,
      "outputs": [
        {
          "output_type": "execute_result",
          "data": {
            "text/plain": [
              "loc             272\n",
              "lastmod         272\n",
              "domain          272\n",
              "sitemap_name    272\n",
              "changefreq      272\n",
              "priority        272\n",
              "dtype: int64"
            ]
          },
          "metadata": {},
          "execution_count": 33
        }
      ]
    },
    {
      "cell_type": "code",
      "source": [
        "resultSiteMaps"
      ],
      "metadata": {
        "id": "KmjNmfFH7LKA"
      },
      "execution_count": null,
      "outputs": []
    },
    {
      "cell_type": "code",
      "source": [
        "# df.to_csv('cenaptec-sitemap.csv', encoding='utf-8')\n",
        "df_new = pd.read_csv('cenaptec-sitemap.csv', encoding='utf-8')\n",
        "df_new.head()"
      ],
      "metadata": {
        "id": "u0HzWFiI3ICe"
      },
      "execution_count": null,
      "outputs": []
    },
    {
      "cell_type": "code",
      "source": [
        "# Fetch all\n",
        "\n",
        "df_pages = pd.DataFrame(columns = ['url', 'title', 'description'])\n",
        "\n",
        "for index, row in resultSiteMaps.iterrows(): \n",
        "    soup = get_page(row['loc'])\n",
        "    title = get_title(soup)\n",
        "    description = get_description(soup)\n",
        "\n",
        "    page = pd.DataFrame({\n",
        "        'url': row['loc'],\n",
        "        'title': title,\n",
        "        'description': description\n",
        "    },index = [index]) \n",
        "\n",
        "    df_pages = pd.concat([df_pages,page], ignore_index=True)\n",
        "\n",
        "df_pages"
      ],
      "metadata": {
        "id": "iNVzJcqtOyqL"
      },
      "execution_count": null,
      "outputs": []
    }
  ]
}